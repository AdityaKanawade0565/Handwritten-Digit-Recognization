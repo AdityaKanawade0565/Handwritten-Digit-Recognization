{
 "cells": [
  {
   "cell_type": "code",
   "execution_count": 11,
   "metadata": {},
   "outputs": [],
   "source": [
    "from numpy import unique, argmax\n",
    "from tensorflow.keras.datasets.mnist import load_data\n",
    "from tensorflow.keras import Sequential\n",
    "from tensorflow. keras. layers import Conv2D\n",
    "from tensorflow.keras . layers import MaxPool2D\n",
    "from tensorflow.keras. layers import Dense\n",
    "from tensorflow.keras.layers import Flatten\n",
    "from tensorflow. keras.layers import Dropout\n",
    "from tensorflow.keras.utils import plot_model\n",
    "from matplotlib import pyplot\n",
    "import matplotlib.pyplot as plt\n",
    "import numpy as np"
   ]
  },
  {
   "cell_type": "code",
   "execution_count": 12,
   "metadata": {},
   "outputs": [],
   "source": [
    "#split dataset into train and test\n",
    "(x_train, y_train), (x_test, y_test) = load_data ()\n",
    "#reshaping the training and testing data\n",
    "x_train = x_train.reshape((x_train.shape[0], x_train.shape[1],\n",
    "x_train.shape[2], 1))\n",
    "x_test = x_test. reshape( (x_test. shape[0], x_test. shape [1], x_test.shape[2], 1))"
   ]
  },
  {
   "cell_type": "code",
   "execution_count": 13,
   "metadata": {},
   "outputs": [],
   "source": [
    "#normalizing the values of pixels of images\n",
    "x_train = x_train.astype( 'float32') / 255.0\n",
    "x_test = x_test.astype('float32') / 255.0"
   ]
  },
  {
   "cell_type": "code",
   "execution_count": 14,
   "metadata": {},
   "outputs": [
    {
     "data": {
      "image/png": "[encoded data removed]",
      "text/plain": [
       "<Figure size 360x216 with 15 Axes>"
      ]
     },
     "metadata": {},
     "output_type": "display_data"
    }
   ],
   "source": [
    "fig = plt.figure (figsize= (5, 3))\n",
    "for i in range(15):\n",
    "    ax = fig.add_subplot(2,10, i+1, xticks=[], yticks=[])\n",
    "    ax.imshow(np.squeeze(x_train[i]), cmap='gray')\n",
    "    ax.set_title(y_train[i])"
   ]
  },
  {
   "cell_type": "code",
   "execution_count": 15,
   "metadata": {},
   "outputs": [],
   "source": [
    "# defining the model\n",
    "model = Sequential()\n",
    "model.add(Conv2D(32, kernel_size=3, activation = 'relu', input_shape=(28,28,1)))\n",
    "model.add(MaxPool2D((2, 2)))\n",
    "model.add(Conv2D(48,(3,3), activation='relu'))\n",
    "model.add(MaxPool2D((2,2)))\n",
    "model.add(Dropout(0.5))\n",
    "model.add(Flatten())\n",
    "model.add(Dense(500, activation='relu'))\n",
    "model.add(Dense(10,activation='softmax'))"
   ]
  },
  {
   "cell_type": "code",
   "execution_count": 16,
   "metadata": {},
   "outputs": [
    {
     "name": "stdout",
     "output_type": "stream",
     "text": [
      "Model: \"sequential_1\"\n",
      "_________________________________________________________________\n",
      "Layer (type)                 Output Shape              Param #   \n",
      "=================================================================\n",
      "conv2d_2 (Conv2D)            (None, 26, 26, 32)        320       \n",
      "_________________________________________________________________\n",
      "max_pooling2d_2 (MaxPooling2 (None, 13, 13, 32)        0         \n",
      "_________________________________________________________________\n",
      "conv2d_3 (Conv2D)            (None, 11, 11, 48)        13872     \n",
      "_________________________________________________________________\n",
      "max_pooling2d_3 (MaxPooling2 (None, 5, 5, 48)          0         \n",
      "_________________________________________________________________\n",
      "dropout_1 (Dropout)          (None, 5, 5, 48)          0         \n",
      "_________________________________________________________________\n",
      "flatten_1 (Flatten)          (None, 1200)              0         \n",
      "_________________________________________________________________\n",
      "dense_2 (Dense)              (None, 500)               600500    \n",
      "_________________________________________________________________\n",
      "dense_3 (Dense)              (None, 10)                5010      \n",
      "=================================================================\n",
      "Total params: 619,702\n",
      "Trainable params: 619,702\n",
      "Non-trainable params: 0\n",
      "_________________________________________________________________\n"
     ]
    }
   ],
   "source": [
    "model.summary()"
   ]
  },
  {
   "cell_type": "code",
   "execution_count": 17,
   "metadata": {},
   "outputs": [
    {
     "name": "stdout",
     "output_type": "stream",
     "text": [
      "Epoch 1/10\n",
      "422/422 - 30s - loss: 0.2336 - accuracy: 0.9305 - val_loss: 0.0661 - val_accuracy: 0.9795\n",
      "Epoch 2/10\n",
      "422/422 - 27s - loss: 0.0785 - accuracy: 0.9750 - val_loss: 0.0426 - val_accuracy: 0.9878\n",
      "Epoch 3/10\n",
      "422/422 - 28s - loss: 0.0590 - accuracy: 0.9814 - val_loss: 0.0383 - val_accuracy: 0.9902\n",
      "Epoch 4/10\n",
      "422/422 - 31s - loss: 0.0482 - accuracy: 0.9845 - val_loss: 0.0347 - val_accuracy: 0.9907\n",
      "Epoch 5/10\n",
      "422/422 - 29s - loss: 0.0412 - accuracy: 0.9872 - val_loss: 0.0299 - val_accuracy: 0.9910\n",
      "Epoch 6/10\n",
      "422/422 - 26s - loss: 0.0366 - accuracy: 0.9879 - val_loss: 0.0277 - val_accuracy: 0.9918\n",
      "Epoch 7/10\n",
      "422/422 - 25s - loss: 0.0314 - accuracy: 0.9899 - val_loss: 0.0316 - val_accuracy: 0.9920\n",
      "Epoch 8/10\n",
      "422/422 - 26s - loss: 0.0300 - accuracy: 0.9902 - val_loss: 0.0250 - val_accuracy: 0.9935\n",
      "Epoch 9/10\n",
      "422/422 - 26s - loss: 0.0254 - accuracy: 0.9920 - val_loss: 0.0276 - val_accuracy: 0.9927\n",
      "Epoch 10/10\n",
      "422/422 - 27s - loss: 0.0234 - accuracy: 0.9919 - val_loss: 0.0274 - val_accuracy: 0.9928\n"
     ]
    }
   ],
   "source": [
    "model.compile(optimizer= 'adam', loss='sparse_categorical_crossentropy', metrics=['accuracy'])\n",
    "x= model.fit(x_train, y_train, epochs=10, batch_size=128, verbose=2, validation_split=0.1)"
   ]
  },
  {
   "cell_type": "code",
   "execution_count": 18,
   "metadata": {},
   "outputs": [
    {
     "name": "stdout",
     "output_type": "stream",
     "text": [
      "Accuracy: 99.18000102043152\n"
     ]
    }
   ],
   "source": [
    "loss, accuracy = model.evaluate(x_test, y_test, verbose=0)\n",
    "print(f'Accuracy: {accuracy*100}')"
   ]
  },
  {
   "cell_type": "code",
   "execution_count": 19,
   "metadata": {},
   "outputs": [
    {
     "data": {
      "image/png": "[encoded data removed]",
      "text/plain": [
       "<Figure size 432x288 with 1 Axes>"
      ]
     },
     "metadata": {
      "needs_background": "light"
     },
     "output_type": "display_data"
    }
   ],
   "source": [
    "image = x_train[6]\n",
    "plt.imshow(np.squeeze(image), cmap='gray') \n",
    "plt.show()"
   ]
  },
  {
   "cell_type": "code",
   "execution_count": 20,
   "metadata": {},
   "outputs": [
    {
     "name": "stdout",
     "output_type": "stream",
     "text": [
      "predicted: 1\n"
     ]
    }
   ],
   "source": [
    "image = image.reshape(1,image.shape[0],image.shape[1],image.shape[2])\n",
    "p = model.predict([image])\n",
    "print('predicted: {}'.format(argmax(p)))"
   ]
  },
  {
   "cell_type": "code",
   "execution_count": null,
   "metadata": {},
   "outputs": [],
   "source": []
  }
 ],
 "metadata": {
  "interpreter": {
   "hash": "e3b5fbd04f68e2b0d30e8aa6dfd8616d885f307650246806c8ef721be6274b54"
  },
  "kernelspec": {
   "display_name": "Python 3.9.6 64-bit",
   "language": "python",
   "name": "python3"
  },
  "language_info": {
   "codemirror_mode": {
    "name": "ipython",
    "version": 3
   },
   "file_extension": ".py",
   "mimetype": "text/x-python",
   "name": "python",
   "nbconvert_exporter": "python",
   "pygments_lexer": "ipython3",
   "version": "3.9.6"
  },
  "orig_nbformat": 4
 },
 "nbformat": 4,
 "nbformat_minor": 2
}
